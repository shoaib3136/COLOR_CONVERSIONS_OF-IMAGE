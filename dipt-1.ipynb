{
 "cells": [
  {
   "cell_type": "code",
   "execution_count": null,
   "id": "97855b92-af76-4ece-97f8-c5423be5be97",
   "metadata": {},
   "outputs": [],
   "source": [
    "import cv2\n",
    "image = cv2.imread('Desktop/dipt/COLOR_CONVERSIONS_OF-IMAGE/shoaib.png', 1)\n",
    "if image is None:\n",
    "    print(\"Error: Image not found. Please check the file path.\")\n",
    "else:\n",
    "    image = cv2.resize(image, (200, 300))\n",
    "    cv2.imshow('Shaik Shoaib Nawaz', image)\n",
    "    cv2.waitKey(0)\n",
    "    cv2.destroyAllWindows()"
   ]
  },
  {
   "cell_type": "code",
   "execution_count": 16,
   "id": "794a33c8-1a26-420b-ace9-4f5ce200154c",
   "metadata": {},
   "outputs": [
    {
     "data": {
      "text/plain": [
       "True"
      ]
     },
     "execution_count": 16,
     "metadata": {},
     "output_type": "execute_result"
    }
   ],
   "source": [
    "    import cv2\n",
    "    image=cv2.imread('Desktop/dipt/COLOR_CONVERSIONS_OF-IMAGE/shoaib.png',0)\n",
    "    cv2.imwrite('shoaib.png',image)"
   ]
  },
  {
   "cell_type": "code",
   "execution_count": 20,
   "id": "84ab327e-8810-49c5-ab64-2566f8ca02b7",
   "metadata": {},
   "outputs": [
    {
     "name": "stdout",
     "output_type": "stream",
     "text": [
      "(401, 470, 3)\n"
     ]
    }
   ],
   "source": [
    "    import cv2\n",
    "    image=cv2.imread('shoaib.png',1)\n",
    "    print(image.shape)"
   ]
  },
  {
   "cell_type": "code",
   "execution_count": null,
   "id": "338776ff-88a7-4495-9fe1-9d7bef73e4b3",
   "metadata": {},
   "outputs": [],
   "source": [
    "    import random\n",
    "    import cv2\n",
    "    image=cv2.imread('Desktop/dipt/COLOR_CONVERSIONS_OF-IMAGE/shoaib.png',1)\n",
    "    image=cv2.resize(image,(400,400))\n",
    "    for i in range (150,200):\n",
    "      for j in range(image.shape[1]):\n",
    "          image[i][j]=[random.randint(0,255),\n",
    "                       random.randint(0,255),\n",
    "                       random.randint(0,255)] \n",
    "    cv2.imshow('part image',image)\n",
    "    cv2.waitKey(0)\n",
    "    cv2.destroyAllWindows()"
   ]
  },
  {
   "cell_type": "code",
   "execution_count": 31,
   "id": "b60598e2-4f27-4ebf-9f8d-aa75c9db5326",
   "metadata": {},
   "outputs": [],
   "source": [
    "   import cv2\n",
    "   image=cv2.imread('Desktop/dipt/COLOR_CONVERSIONS_OF-IMAGE/shoaib.png',1)\n",
    "   image=cv2.resize(image,(400,400))\n",
    "   tag =image[130:200,110:190]\n",
    "   image[110:180,120:200] = tag\n",
    "   cv2.imshow('partimage1',image)\n",
    "   cv2.waitKey(0)\n",
    "   cv2.destroyAllWindows()"
   ]
  },
  {
   "cell_type": "code",
   "execution_count": 29,
   "id": "e9052faf-2a9b-4401-a26f-42dcf2f67f7c",
   "metadata": {},
   "outputs": [],
   "source": [
    "import cv2\n",
    "img = cv2.imread('Desktop/dipt/COLOR_CONVERSIONS_OF-IMAGE/shoaib.png',1)\n",
    "img = cv2.resize(img,(300,200))\n",
    "cv2.imshow('Original Image',img)\n",
    "hsv1 = cv2.cvtColor(img,cv2.COLOR_BGR2HSV)\n",
    "cv2.imshow('BGR2HSV',hsv1)\n",
    "hsv2 = cv2.cvtColor(img,cv2.COLOR_RGB2HSV)\n",
    "cv2.imshow('RGB2HSV',hsv2)\n",
    "gray1 = cv2.cvtColor(img,cv2.COLOR_BGR2GRAY)\n",
    "cv2.imshow('BGR2GRAY',gray1)\n",
    "gray2 = cv2.cvtColor(img,cv2.COLOR_RGB2GRAY)\n",
    "cv2.imshow('RGB2GRAY',gray2)\n",
    "cv2.waitKey(0)\n",
    "cv2.destroyAllWindows()"
   ]
  },
  {
   "cell_type": "code",
   "execution_count": null,
   "id": "1ec7064e-34c3-4262-afb1-e02322285962",
   "metadata": {},
   "outputs": [],
   "source": [
    "import cv2\n",
    "img = cv2.imread('Desktop/dipt/COLOR_CONVERSIONS_OF-IMAGE/shoaib.png')\n",
    "img = cv2.resize(img,(300,200))\n",
    "img = cv2.cvtColor(img,cv2.COLOR_BGR2HSV)\n",
    "cv2.imshow('Original HSV Image',img)\n",
    "RGB = cv2.cvtColor(img,cv2.COLOR_HSV2RGB)\n",
    "cv2.imshow('2HSV2BGR',RGB)\n",
    "BGR = cv2.cvtColor(img,cv2.COLOR_HSV2BGR)\n",
    "cv2.imshow('HSV2RGB',BGR)\n",
    "cv2.waitKey(0)\n",
    "cv2.destroyAllWindows()"
   ]
  },
  {
   "cell_type": "code",
   "execution_count": 1,
   "id": "1d115f5d-5b4c-4c93-b00b-6a9a5637a278",
   "metadata": {},
   "outputs": [],
   "source": [
    "import cv2\n",
    "img = cv2.imread('Desktop/dipt/COLOR_CONVERSIONS_OF-IMAGE/shoaib.png')\n",
    "img = cv2.resize(img,(300,200))\n",
    "cv2.imshow('Original RGB Image',img)\n",
    "YCrCb1 = cv2.cvtColor(img, cv2.COLOR_BGR2YCrCb)\n",
    "cv2.imshow('RGB-2-YCrCb',YCrCb1)\n",
    "YCrCb2 = cv2.cvtColor(img, cv2.COLOR_RGB2YCrCb)\n",
    "cv2.imshow('BGR-2-YCrCb',YCrCb2)\n",
    "cv2.waitKey(0)\n",
    "cv2.destroyAllWindows()"
   ]
  },
  {
   "cell_type": "code",
   "execution_count": 3,
   "id": "b4780566-662a-42a5-8a67-19618361f74a",
   "metadata": {},
   "outputs": [],
   "source": [
    "import cv2\n",
    "img = cv2.imread('Desktop/dipt/COLOR_CONVERSIONS_OF-IMAGE/shoaib.png',1)\n",
    "img = cv2.resize(img,(300,200))\n",
    "R = img[:,:,2]\n",
    "G = img[:,:,1]\n",
    "B = img[:,:,0]\n",
    "cv2.imshow('R-Channel',R)\n",
    "cv2.imshow('G-Channel',G)\n",
    "cv2.imshow('B-Channel',B)\n",
    "merged = cv2.merge((B,G,R))\n",
    "cv2.imshow('Merged RGB image',merged)\n",
    "cv2.waitKey(0)\n",
    "cv2.destroyAllWindows()"
   ]
  },
  {
   "cell_type": "code",
   "execution_count": null,
   "id": "ecbc82cb-cd80-4771-af8d-64821c48b068",
   "metadata": {},
   "outputs": [],
   "source": [
    "import cv2\n",
    "img = cv2.imread(\"Desktop/dipt/COLOR_CONVERSIONS_OF-IMAGE/shoaib.png\",1)\n",
    "img = cv2.resize(img,(300,200))\n",
    "img=cv2.cvtColor(img,cv2.COLOR_RGB2HSV)\n",
    "H,S,V=cv2.split(img)\n",
    "cv2.imshow('Hue',H)\n",
    "cv2.imshow('Saturation',S)\n",
    "cv2.imshow('Value',V)\n",
    "merged = cv2.merge((H,S,V))\n",
    "cv2.imshow('Merged',merged)\n",
    "cv2.waitKey(0)\n",
    "cv2.destroyAllWindows()"
   ]
  },
  {
   "cell_type": "code",
   "execution_count": null,
   "id": "dc7b85dc-caa9-40b6-8a13-69f885878f51",
   "metadata": {},
   "outputs": [],
   "source": [
    "#wk-1"
   ]
  },
  {
   "cell_type": "code",
   "execution_count": null,
   "id": "1caf766f-9ae7-44a7-8f09-59c6cbddf778",
   "metadata": {},
   "outputs": [],
   "source": [
    "import cv2\n",
    "import numpy as np\n",
    "\n",
    "def load_and_divide_images(image_path1, image_path2, output_dir):\n",
    "    \"\"\"\n",
    "    Loads two images, divides them into four quadrants, swaps the quadrants, and resizes the final images.\n",
    "\n",
    "    Args:\n",
    "        image_path1: Path to the first image.\n",
    "        image_path2: Path to the second image.\n",
    "        output_dir: Directory to save the output images.\n",
    "    \"\"\"\n",
    "\n",
    "    # Load the images\n",
    "    img1 = cv2.imread(\"Desktop/dipt/COLOR_CONVERSIONS_OF-IMAGE/rose.jpeg\")\n",
    "    img2 = cv2.imread(\"Desktop/dipt/COLOR_CONVERSIONS_OF-IMAGE/rose2.jpg\")\n",
    "\n",
    "    # Check if the images have the same size\n",
    "    if img1.shape != img2.shape:\n",
    "        raise ValueError(\"Images must have the same size.\")\n",
    "\n",
    "    # Get the dimensions of the images\n",
    "    height, width, channels = img1.shape\n",
    "\n",
    "    # Calculate the quadrant dimensions\n",
    "    quadrant_height = height // 2\n",
    "    quadrant_width = width // 2\n",
    "\n",
    "    # Divide the images into quadrants\n",
    "    quadrants1 = [\n",
    "        img1[:quadrant_height, :quadrant_width],\n",
    "        img1[:quadrant_height, quadrant_width:],\n",
    "        img1[quadrant_height:, :quadrant_width],\n",
    "        img1[quadrant_height:, quadrant_width:]\n",
    "    ]\n",
    "\n",
    "    quadrants2 = [\n",
    "        img2[:quadrant_height, :quadrant_width],\n",
    "        img2[:quadrant_height, quadrant_width:],\n",
    "        img2[quadrant_height:, :quadrant_width],\n",
    "        img2[quadrant_height:, quadrant_width:]\n",
    "    ]\n",
    "\n",
    "    # Swap the quadrants\n",
    "    quadrants1[0], quadrants2[3] = quadrants2[3], quadrants1[0]\n",
    "    quadrants1[1], quadrants2[2] = quadrants2[2], quadrants1[1]\n",
    "\n",
    "    # Create the final images\n",
    "    final_img1 = np.vstack([np.hstack(quadrants1[:2]), np.hstack(quadrants1[2:])])\n",
    "    final_img2 = np.vstack([np.hstack(quadrants2[:2]), np.hstack(quadrants2[2:])])\n",
    "\n",
    "    # Get the last four digits of your registration number\n",
    "    registration_number = 212222240094  # Replace with your actual registration number\n",
    "    new_size = (registration_number % 10000 // 100, registration_number % 100)\n",
    "\n",
    "    # Resize the final images\n",
    "    final_img1 = cv2.resize(final_img1, new_size)\n",
    "    final_img2 = cv2.resize(final_img2, new_size)\n",
    "\n",
    "    # Save the final images\n",
    "    cv2.imwrite(f\"{output_dir}/R1.jpg\", final_img1)\n",
    "    cv2.imwrite(f\"{output_dir}/R2.jpg\", final_img2)\n",
    "\n",
    "# Example usage\n",
    "image_path1 = \"Desktop/dipt/COLOR_CONVERSIONS_OF-IMAGE/rose.jpeg\"\n",
    "image_path2 = \"Desktop/dipt/COLOR_CONVERSIONS_OF-IMAGE/rose2.jpg\"\n",
    "output_dir = \"output\"\n",
    "\n",
    "load_and_divide_images(image_path1, image_path2, output_dir)"
   ]
  },
  {
   "cell_type": "code",
   "execution_count": null,
   "id": "ca7c4e25-def4-4789-a6c2-6047319a19d1",
   "metadata": {},
   "outputs": [],
   "source": []
  }
 ],
 "metadata": {
  "kernelspec": {
   "display_name": "Python 3 (ipykernel)",
   "language": "python",
   "name": "python3"
  },
  "language_info": {
   "codemirror_mode": {
    "name": "ipython",
    "version": 3
   },
   "file_extension": ".py",
   "mimetype": "text/x-python",
   "name": "python",
   "nbconvert_exporter": "python",
   "pygments_lexer": "ipython3",
   "version": "3.12.4"
  }
 },
 "nbformat": 4,
 "nbformat_minor": 5
}
